{
 "cells": [
  {
   "cell_type": "markdown",
   "metadata": {
    "id": "hH0yScw3TDBH"
   },
   "source": [
    "**Installing Libraries**"
   ]
  },
  {
   "cell_type": "code",
   "execution_count": 1,
   "metadata": {
    "colab": {
     "base_uri": "https://localhost:8080/"
    },
    "id": "IVmcPxAiKqnu",
    "outputId": "e914045a-ef0b-4076-a4f1-28b6eeea16ce"
   },
   "outputs": [
    {
     "name": "stdout",
     "output_type": "stream",
     "text": [
      "Requirement already satisfied: sentence-transformers in /usr/local/lib/python3.11/dist-packages (4.1.0)\n",
      "Requirement already satisfied: transformers<5.0.0,>=4.41.0 in /usr/local/lib/python3.11/dist-packages (from sentence-transformers) (4.52.4)\n",
      "Requirement already satisfied: tqdm in /usr/local/lib/python3.11/dist-packages (from sentence-transformers) (4.67.1)\n",
      "Requirement already satisfied: torch>=1.11.0 in /usr/local/lib/python3.11/dist-packages (from sentence-transformers) (2.6.0+cu124)\n",
      "Requirement already satisfied: scikit-learn in /usr/local/lib/python3.11/dist-packages (from sentence-transformers) (1.6.1)\n",
      "Requirement already satisfied: scipy in /usr/local/lib/python3.11/dist-packages (from sentence-transformers) (1.15.3)\n",
      "Requirement already satisfied: huggingface-hub>=0.20.0 in /usr/local/lib/python3.11/dist-packages (from sentence-transformers) (0.32.4)\n",
      "Requirement already satisfied: Pillow in /usr/local/lib/python3.11/dist-packages (from sentence-transformers) (11.2.1)\n",
      "Requirement already satisfied: typing_extensions>=4.5.0 in /usr/local/lib/python3.11/dist-packages (from sentence-transformers) (4.14.0)\n",
      "Requirement already satisfied: filelock in /usr/local/lib/python3.11/dist-packages (from huggingface-hub>=0.20.0->sentence-transformers) (3.18.0)\n",
      "Requirement already satisfied: fsspec>=2023.5.0 in /usr/local/lib/python3.11/dist-packages (from huggingface-hub>=0.20.0->sentence-transformers) (2025.3.2)\n",
      "Requirement already satisfied: packaging>=20.9 in /usr/local/lib/python3.11/dist-packages (from huggingface-hub>=0.20.0->sentence-transformers) (24.2)\n",
      "Requirement already satisfied: pyyaml>=5.1 in /usr/local/lib/python3.11/dist-packages (from huggingface-hub>=0.20.0->sentence-transformers) (6.0.2)\n",
      "Requirement already satisfied: requests in /usr/local/lib/python3.11/dist-packages (from huggingface-hub>=0.20.0->sentence-transformers) (2.32.3)\n",
      "Requirement already satisfied: hf-xet<2.0.0,>=1.1.2 in /usr/local/lib/python3.11/dist-packages (from huggingface-hub>=0.20.0->sentence-transformers) (1.1.2)\n",
      "Requirement already satisfied: networkx in /usr/local/lib/python3.11/dist-packages (from torch>=1.11.0->sentence-transformers) (3.5)\n",
      "Requirement already satisfied: jinja2 in /usr/local/lib/python3.11/dist-packages (from torch>=1.11.0->sentence-transformers) (3.1.6)\n",
      "Collecting nvidia-cuda-nvrtc-cu12==12.4.127 (from torch>=1.11.0->sentence-transformers)\n",
      "  Downloading nvidia_cuda_nvrtc_cu12-12.4.127-py3-none-manylinux2014_x86_64.whl.metadata (1.5 kB)\n",
      "Collecting nvidia-cuda-runtime-cu12==12.4.127 (from torch>=1.11.0->sentence-transformers)\n",
      "  Downloading nvidia_cuda_runtime_cu12-12.4.127-py3-none-manylinux2014_x86_64.whl.metadata (1.5 kB)\n",
      "Collecting nvidia-cuda-cupti-cu12==12.4.127 (from torch>=1.11.0->sentence-transformers)\n",
      "  Downloading nvidia_cuda_cupti_cu12-12.4.127-py3-none-manylinux2014_x86_64.whl.metadata (1.6 kB)\n",
      "Collecting nvidia-cudnn-cu12==9.1.0.70 (from torch>=1.11.0->sentence-transformers)\n",
      "  Downloading nvidia_cudnn_cu12-9.1.0.70-py3-none-manylinux2014_x86_64.whl.metadata (1.6 kB)\n",
      "Collecting nvidia-cublas-cu12==12.4.5.8 (from torch>=1.11.0->sentence-transformers)\n",
      "  Downloading nvidia_cublas_cu12-12.4.5.8-py3-none-manylinux2014_x86_64.whl.metadata (1.5 kB)\n",
      "Collecting nvidia-cufft-cu12==11.2.1.3 (from torch>=1.11.0->sentence-transformers)\n",
      "  Downloading nvidia_cufft_cu12-11.2.1.3-py3-none-manylinux2014_x86_64.whl.metadata (1.5 kB)\n",
      "Collecting nvidia-curand-cu12==10.3.5.147 (from torch>=1.11.0->sentence-transformers)\n",
      "  Downloading nvidia_curand_cu12-10.3.5.147-py3-none-manylinux2014_x86_64.whl.metadata (1.5 kB)\n",
      "Collecting nvidia-cusolver-cu12==11.6.1.9 (from torch>=1.11.0->sentence-transformers)\n",
      "  Downloading nvidia_cusolver_cu12-11.6.1.9-py3-none-manylinux2014_x86_64.whl.metadata (1.6 kB)\n",
      "Collecting nvidia-cusparse-cu12==12.3.1.170 (from torch>=1.11.0->sentence-transformers)\n",
      "  Downloading nvidia_cusparse_cu12-12.3.1.170-py3-none-manylinux2014_x86_64.whl.metadata (1.6 kB)\n",
      "Requirement already satisfied: nvidia-cusparselt-cu12==0.6.2 in /usr/local/lib/python3.11/dist-packages (from torch>=1.11.0->sentence-transformers) (0.6.2)\n",
      "Requirement already satisfied: nvidia-nccl-cu12==2.21.5 in /usr/local/lib/python3.11/dist-packages (from torch>=1.11.0->sentence-transformers) (2.21.5)\n",
      "Requirement already satisfied: nvidia-nvtx-cu12==12.4.127 in /usr/local/lib/python3.11/dist-packages (from torch>=1.11.0->sentence-transformers) (12.4.127)\n",
      "Collecting nvidia-nvjitlink-cu12==12.4.127 (from torch>=1.11.0->sentence-transformers)\n",
      "  Downloading nvidia_nvjitlink_cu12-12.4.127-py3-none-manylinux2014_x86_64.whl.metadata (1.5 kB)\n",
      "Requirement already satisfied: triton==3.2.0 in /usr/local/lib/python3.11/dist-packages (from torch>=1.11.0->sentence-transformers) (3.2.0)\n",
      "Requirement already satisfied: sympy==1.13.1 in /usr/local/lib/python3.11/dist-packages (from torch>=1.11.0->sentence-transformers) (1.13.1)\n",
      "Requirement already satisfied: mpmath<1.4,>=1.1.0 in /usr/local/lib/python3.11/dist-packages (from sympy==1.13.1->torch>=1.11.0->sentence-transformers) (1.3.0)\n",
      "Requirement already satisfied: numpy>=1.17 in /usr/local/lib/python3.11/dist-packages (from transformers<5.0.0,>=4.41.0->sentence-transformers) (2.0.2)\n",
      "Requirement already satisfied: regex!=2019.12.17 in /usr/local/lib/python3.11/dist-packages (from transformers<5.0.0,>=4.41.0->sentence-transformers) (2024.11.6)\n",
      "Requirement already satisfied: tokenizers<0.22,>=0.21 in /usr/local/lib/python3.11/dist-packages (from transformers<5.0.0,>=4.41.0->sentence-transformers) (0.21.1)\n",
      "Requirement already satisfied: safetensors>=0.4.3 in /usr/local/lib/python3.11/dist-packages (from transformers<5.0.0,>=4.41.0->sentence-transformers) (0.5.3)\n",
      "Requirement already satisfied: joblib>=1.2.0 in /usr/local/lib/python3.11/dist-packages (from scikit-learn->sentence-transformers) (1.5.1)\n",
      "Requirement already satisfied: threadpoolctl>=3.1.0 in /usr/local/lib/python3.11/dist-packages (from scikit-learn->sentence-transformers) (3.6.0)\n",
      "Requirement already satisfied: MarkupSafe>=2.0 in /usr/local/lib/python3.11/dist-packages (from jinja2->torch>=1.11.0->sentence-transformers) (3.0.2)\n",
      "Requirement already satisfied: charset-normalizer<4,>=2 in /usr/local/lib/python3.11/dist-packages (from requests->huggingface-hub>=0.20.0->sentence-transformers) (3.4.2)\n",
      "Requirement already satisfied: idna<4,>=2.5 in /usr/local/lib/python3.11/dist-packages (from requests->huggingface-hub>=0.20.0->sentence-transformers) (3.10)\n",
      "Requirement already satisfied: urllib3<3,>=1.21.1 in /usr/local/lib/python3.11/dist-packages (from requests->huggingface-hub>=0.20.0->sentence-transformers) (2.4.0)\n",
      "Requirement already satisfied: certifi>=2017.4.17 in /usr/local/lib/python3.11/dist-packages (from requests->huggingface-hub>=0.20.0->sentence-transformers) (2025.4.26)\n",
      "Downloading nvidia_cublas_cu12-12.4.5.8-py3-none-manylinux2014_x86_64.whl (363.4 MB)\n",
      "\u001b[2K   \u001b[90m━━━━━━━━━━━━━━━━━━━━━━━━━━━━━━━━━━━━━━━━\u001b[0m \u001b[32m363.4/363.4 MB\u001b[0m \u001b[31m3.6 MB/s\u001b[0m eta \u001b[36m0:00:00\u001b[0m\n",
      "\u001b[?25hDownloading nvidia_cuda_cupti_cu12-12.4.127-py3-none-manylinux2014_x86_64.whl (13.8 MB)\n",
      "\u001b[2K   \u001b[90m━━━━━━━━━━━━━━━━━━━━━━━━━━━━━━━━━━━━━━━━\u001b[0m \u001b[32m13.8/13.8 MB\u001b[0m \u001b[31m46.6 MB/s\u001b[0m eta \u001b[36m0:00:00\u001b[0m\n",
      "\u001b[?25hDownloading nvidia_cuda_nvrtc_cu12-12.4.127-py3-none-manylinux2014_x86_64.whl (24.6 MB)\n",
      "\u001b[2K   \u001b[90m━━━━━━━━━━━━━━━━━━━━━━━━━━━━━━━━━━━━━━━━\u001b[0m \u001b[32m24.6/24.6 MB\u001b[0m \u001b[31m31.3 MB/s\u001b[0m eta \u001b[36m0:00:00\u001b[0m\n",
      "\u001b[?25hDownloading nvidia_cuda_runtime_cu12-12.4.127-py3-none-manylinux2014_x86_64.whl (883 kB)\n",
      "\u001b[2K   \u001b[90m━━━━━━━━━━━━━━━━━━━━━━━━━━━━━━━━━━━━━━━━\u001b[0m \u001b[32m883.7/883.7 kB\u001b[0m \u001b[31m23.7 MB/s\u001b[0m eta \u001b[36m0:00:00\u001b[0m\n",
      "\u001b[?25hDownloading nvidia_cudnn_cu12-9.1.0.70-py3-none-manylinux2014_x86_64.whl (664.8 MB)\n",
      "\u001b[2K   \u001b[90m━━━━━━━━━━━━━━━━━━━━━━━━━━━━━━━━━━━━━━━━\u001b[0m \u001b[32m664.8/664.8 MB\u001b[0m \u001b[31m2.0 MB/s\u001b[0m eta \u001b[36m0:00:00\u001b[0m\n",
      "\u001b[?25hDownloading nvidia_cufft_cu12-11.2.1.3-py3-none-manylinux2014_x86_64.whl (211.5 MB)\n",
      "\u001b[2K   \u001b[90m━━━━━━━━━━━━━━━━━━━━━━━━━━━━━━━━━━━━━━━━\u001b[0m \u001b[32m211.5/211.5 MB\u001b[0m \u001b[31m4.8 MB/s\u001b[0m eta \u001b[36m0:00:00\u001b[0m\n",
      "\u001b[?25hDownloading nvidia_curand_cu12-10.3.5.147-py3-none-manylinux2014_x86_64.whl (56.3 MB)\n",
      "\u001b[2K   \u001b[90m━━━━━━━━━━━━━━━━━━━━━━━━━━━━━━━━━━━━━━━━\u001b[0m \u001b[32m56.3/56.3 MB\u001b[0m \u001b[31m16.2 MB/s\u001b[0m eta \u001b[36m0:00:00\u001b[0m\n",
      "\u001b[?25hDownloading nvidia_cusolver_cu12-11.6.1.9-py3-none-manylinux2014_x86_64.whl (127.9 MB)\n",
      "\u001b[2K   \u001b[90m━━━━━━━━━━━━━━━━━━━━━━━━━━━━━━━━━━━━━━━━\u001b[0m \u001b[32m127.9/127.9 MB\u001b[0m \u001b[31m9.0 MB/s\u001b[0m eta \u001b[36m0:00:00\u001b[0m\n",
      "\u001b[?25hDownloading nvidia_cusparse_cu12-12.3.1.170-py3-none-manylinux2014_x86_64.whl (207.5 MB)\n",
      "\u001b[2K   \u001b[90m━━━━━━━━━━━━━━━━━━━━━━━━━━━━━━━━━━━━━━━━\u001b[0m \u001b[32m207.5/207.5 MB\u001b[0m \u001b[31m4.4 MB/s\u001b[0m eta \u001b[36m0:00:00\u001b[0m\n",
      "\u001b[?25hDownloading nvidia_nvjitlink_cu12-12.4.127-py3-none-manylinux2014_x86_64.whl (21.1 MB)\n",
      "\u001b[2K   \u001b[90m━━━━━━━━━━━━━━━━━━━━━━━━━━━━━━━━━━━━━━━━\u001b[0m \u001b[32m21.1/21.1 MB\u001b[0m \u001b[31m31.5 MB/s\u001b[0m eta \u001b[36m0:00:00\u001b[0m\n",
      "\u001b[?25hInstalling collected packages: nvidia-nvjitlink-cu12, nvidia-curand-cu12, nvidia-cufft-cu12, nvidia-cuda-runtime-cu12, nvidia-cuda-nvrtc-cu12, nvidia-cuda-cupti-cu12, nvidia-cublas-cu12, nvidia-cusparse-cu12, nvidia-cudnn-cu12, nvidia-cusolver-cu12\n",
      "  Attempting uninstall: nvidia-nvjitlink-cu12\n",
      "    Found existing installation: nvidia-nvjitlink-cu12 12.5.82\n",
      "    Uninstalling nvidia-nvjitlink-cu12-12.5.82:\n",
      "      Successfully uninstalled nvidia-nvjitlink-cu12-12.5.82\n",
      "  Attempting uninstall: nvidia-curand-cu12\n",
      "    Found existing installation: nvidia-curand-cu12 10.3.6.82\n",
      "    Uninstalling nvidia-curand-cu12-10.3.6.82:\n",
      "      Successfully uninstalled nvidia-curand-cu12-10.3.6.82\n",
      "  Attempting uninstall: nvidia-cufft-cu12\n",
      "    Found existing installation: nvidia-cufft-cu12 11.2.3.61\n",
      "    Uninstalling nvidia-cufft-cu12-11.2.3.61:\n",
      "      Successfully uninstalled nvidia-cufft-cu12-11.2.3.61\n",
      "  Attempting uninstall: nvidia-cuda-runtime-cu12\n",
      "    Found existing installation: nvidia-cuda-runtime-cu12 12.5.82\n",
      "    Uninstalling nvidia-cuda-runtime-cu12-12.5.82:\n",
      "      Successfully uninstalled nvidia-cuda-runtime-cu12-12.5.82\n",
      "  Attempting uninstall: nvidia-cuda-nvrtc-cu12\n",
      "    Found existing installation: nvidia-cuda-nvrtc-cu12 12.5.82\n",
      "    Uninstalling nvidia-cuda-nvrtc-cu12-12.5.82:\n",
      "      Successfully uninstalled nvidia-cuda-nvrtc-cu12-12.5.82\n",
      "  Attempting uninstall: nvidia-cuda-cupti-cu12\n",
      "    Found existing installation: nvidia-cuda-cupti-cu12 12.5.82\n",
      "    Uninstalling nvidia-cuda-cupti-cu12-12.5.82:\n",
      "      Successfully uninstalled nvidia-cuda-cupti-cu12-12.5.82\n",
      "  Attempting uninstall: nvidia-cublas-cu12\n",
      "    Found existing installation: nvidia-cublas-cu12 12.5.3.2\n",
      "    Uninstalling nvidia-cublas-cu12-12.5.3.2:\n",
      "      Successfully uninstalled nvidia-cublas-cu12-12.5.3.2\n",
      "  Attempting uninstall: nvidia-cusparse-cu12\n",
      "    Found existing installation: nvidia-cusparse-cu12 12.5.1.3\n",
      "    Uninstalling nvidia-cusparse-cu12-12.5.1.3:\n",
      "      Successfully uninstalled nvidia-cusparse-cu12-12.5.1.3\n",
      "  Attempting uninstall: nvidia-cudnn-cu12\n",
      "    Found existing installation: nvidia-cudnn-cu12 9.3.0.75\n",
      "    Uninstalling nvidia-cudnn-cu12-9.3.0.75:\n",
      "      Successfully uninstalled nvidia-cudnn-cu12-9.3.0.75\n",
      "  Attempting uninstall: nvidia-cusolver-cu12\n",
      "    Found existing installation: nvidia-cusolver-cu12 11.6.3.83\n",
      "    Uninstalling nvidia-cusolver-cu12-11.6.3.83:\n",
      "      Successfully uninstalled nvidia-cusolver-cu12-11.6.3.83\n",
      "Successfully installed nvidia-cublas-cu12-12.4.5.8 nvidia-cuda-cupti-cu12-12.4.127 nvidia-cuda-nvrtc-cu12-12.4.127 nvidia-cuda-runtime-cu12-12.4.127 nvidia-cudnn-cu12-9.1.0.70 nvidia-cufft-cu12-11.2.1.3 nvidia-curand-cu12-10.3.5.147 nvidia-cusolver-cu12-11.6.1.9 nvidia-cusparse-cu12-12.3.1.170 nvidia-nvjitlink-cu12-12.4.127\n",
      "Requirement already satisfied: transformers in /usr/local/lib/python3.11/dist-packages (4.52.4)\n",
      "Requirement already satisfied: filelock in /usr/local/lib/python3.11/dist-packages (from transformers) (3.18.0)\n",
      "Requirement already satisfied: huggingface-hub<1.0,>=0.30.0 in /usr/local/lib/python3.11/dist-packages (from transformers) (0.32.4)\n",
      "Requirement already satisfied: numpy>=1.17 in /usr/local/lib/python3.11/dist-packages (from transformers) (2.0.2)\n",
      "Requirement already satisfied: packaging>=20.0 in /usr/local/lib/python3.11/dist-packages (from transformers) (24.2)\n",
      "Requirement already satisfied: pyyaml>=5.1 in /usr/local/lib/python3.11/dist-packages (from transformers) (6.0.2)\n",
      "Requirement already satisfied: regex!=2019.12.17 in /usr/local/lib/python3.11/dist-packages (from transformers) (2024.11.6)\n",
      "Requirement already satisfied: requests in /usr/local/lib/python3.11/dist-packages (from transformers) (2.32.3)\n",
      "Requirement already satisfied: tokenizers<0.22,>=0.21 in /usr/local/lib/python3.11/dist-packages (from transformers) (0.21.1)\n",
      "Requirement already satisfied: safetensors>=0.4.3 in /usr/local/lib/python3.11/dist-packages (from transformers) (0.5.3)\n",
      "Requirement already satisfied: tqdm>=4.27 in /usr/local/lib/python3.11/dist-packages (from transformers) (4.67.1)\n",
      "Requirement already satisfied: fsspec>=2023.5.0 in /usr/local/lib/python3.11/dist-packages (from huggingface-hub<1.0,>=0.30.0->transformers) (2025.3.2)\n",
      "Requirement already satisfied: typing-extensions>=3.7.4.3 in /usr/local/lib/python3.11/dist-packages (from huggingface-hub<1.0,>=0.30.0->transformers) (4.14.0)\n",
      "Requirement already satisfied: hf-xet<2.0.0,>=1.1.2 in /usr/local/lib/python3.11/dist-packages (from huggingface-hub<1.0,>=0.30.0->transformers) (1.1.2)\n",
      "Requirement already satisfied: charset-normalizer<4,>=2 in /usr/local/lib/python3.11/dist-packages (from requests->transformers) (3.4.2)\n",
      "Requirement already satisfied: idna<4,>=2.5 in /usr/local/lib/python3.11/dist-packages (from requests->transformers) (3.10)\n",
      "Requirement already satisfied: urllib3<3,>=1.21.1 in /usr/local/lib/python3.11/dist-packages (from requests->transformers) (2.4.0)\n",
      "Requirement already satisfied: certifi>=2017.4.17 in /usr/local/lib/python3.11/dist-packages (from requests->transformers) (2025.4.26)\n",
      "Requirement already satisfied: torch in /usr/local/lib/python3.11/dist-packages (2.6.0+cu124)\n",
      "Requirement already satisfied: filelock in /usr/local/lib/python3.11/dist-packages (from torch) (3.18.0)\n",
      "Requirement already satisfied: typing-extensions>=4.10.0 in /usr/local/lib/python3.11/dist-packages (from torch) (4.14.0)\n",
      "Requirement already satisfied: networkx in /usr/local/lib/python3.11/dist-packages (from torch) (3.5)\n",
      "Requirement already satisfied: jinja2 in /usr/local/lib/python3.11/dist-packages (from torch) (3.1.6)\n",
      "Requirement already satisfied: fsspec in /usr/local/lib/python3.11/dist-packages (from torch) (2025.3.2)\n",
      "Requirement already satisfied: nvidia-cuda-nvrtc-cu12==12.4.127 in /usr/local/lib/python3.11/dist-packages (from torch) (12.4.127)\n",
      "Requirement already satisfied: nvidia-cuda-runtime-cu12==12.4.127 in /usr/local/lib/python3.11/dist-packages (from torch) (12.4.127)\n",
      "Requirement already satisfied: nvidia-cuda-cupti-cu12==12.4.127 in /usr/local/lib/python3.11/dist-packages (from torch) (12.4.127)\n",
      "Requirement already satisfied: nvidia-cudnn-cu12==9.1.0.70 in /usr/local/lib/python3.11/dist-packages (from torch) (9.1.0.70)\n",
      "Requirement already satisfied: nvidia-cublas-cu12==12.4.5.8 in /usr/local/lib/python3.11/dist-packages (from torch) (12.4.5.8)\n",
      "Requirement already satisfied: nvidia-cufft-cu12==11.2.1.3 in /usr/local/lib/python3.11/dist-packages (from torch) (11.2.1.3)\n",
      "Requirement already satisfied: nvidia-curand-cu12==10.3.5.147 in /usr/local/lib/python3.11/dist-packages (from torch) (10.3.5.147)\n",
      "Requirement already satisfied: nvidia-cusolver-cu12==11.6.1.9 in /usr/local/lib/python3.11/dist-packages (from torch) (11.6.1.9)\n",
      "Requirement already satisfied: nvidia-cusparse-cu12==12.3.1.170 in /usr/local/lib/python3.11/dist-packages (from torch) (12.3.1.170)\n",
      "Requirement already satisfied: nvidia-cusparselt-cu12==0.6.2 in /usr/local/lib/python3.11/dist-packages (from torch) (0.6.2)\n",
      "Requirement already satisfied: nvidia-nccl-cu12==2.21.5 in /usr/local/lib/python3.11/dist-packages (from torch) (2.21.5)\n",
      "Requirement already satisfied: nvidia-nvtx-cu12==12.4.127 in /usr/local/lib/python3.11/dist-packages (from torch) (12.4.127)\n",
      "Requirement already satisfied: nvidia-nvjitlink-cu12==12.4.127 in /usr/local/lib/python3.11/dist-packages (from torch) (12.4.127)\n",
      "Requirement already satisfied: triton==3.2.0 in /usr/local/lib/python3.11/dist-packages (from torch) (3.2.0)\n",
      "Requirement already satisfied: sympy==1.13.1 in /usr/local/lib/python3.11/dist-packages (from torch) (1.13.1)\n",
      "Requirement already satisfied: mpmath<1.4,>=1.1.0 in /usr/local/lib/python3.11/dist-packages (from sympy==1.13.1->torch) (1.3.0)\n",
      "Requirement already satisfied: MarkupSafe>=2.0 in /usr/local/lib/python3.11/dist-packages (from jinja2->torch) (3.0.2)\n",
      "Requirement already satisfied: accelerate in /usr/local/lib/python3.11/dist-packages (1.7.0)\n",
      "Requirement already satisfied: numpy<3.0.0,>=1.17 in /usr/local/lib/python3.11/dist-packages (from accelerate) (2.0.2)\n",
      "Requirement already satisfied: packaging>=20.0 in /usr/local/lib/python3.11/dist-packages (from accelerate) (24.2)\n",
      "Requirement already satisfied: psutil in /usr/local/lib/python3.11/dist-packages (from accelerate) (5.9.5)\n",
      "Requirement already satisfied: pyyaml in /usr/local/lib/python3.11/dist-packages (from accelerate) (6.0.2)\n",
      "Requirement already satisfied: torch>=2.0.0 in /usr/local/lib/python3.11/dist-packages (from accelerate) (2.6.0+cu124)\n",
      "Requirement already satisfied: huggingface-hub>=0.21.0 in /usr/local/lib/python3.11/dist-packages (from accelerate) (0.32.4)\n",
      "Requirement already satisfied: safetensors>=0.4.3 in /usr/local/lib/python3.11/dist-packages (from accelerate) (0.5.3)\n",
      "Requirement already satisfied: filelock in /usr/local/lib/python3.11/dist-packages (from huggingface-hub>=0.21.0->accelerate) (3.18.0)\n",
      "Requirement already satisfied: fsspec>=2023.5.0 in /usr/local/lib/python3.11/dist-packages (from huggingface-hub>=0.21.0->accelerate) (2025.3.2)\n",
      "Requirement already satisfied: requests in /usr/local/lib/python3.11/dist-packages (from huggingface-hub>=0.21.0->accelerate) (2.32.3)\n",
      "Requirement already satisfied: tqdm>=4.42.1 in /usr/local/lib/python3.11/dist-packages (from huggingface-hub>=0.21.0->accelerate) (4.67.1)\n",
      "Requirement already satisfied: typing-extensions>=3.7.4.3 in /usr/local/lib/python3.11/dist-packages (from huggingface-hub>=0.21.0->accelerate) (4.14.0)\n",
      "Requirement already satisfied: hf-xet<2.0.0,>=1.1.2 in /usr/local/lib/python3.11/dist-packages (from huggingface-hub>=0.21.0->accelerate) (1.1.2)\n",
      "Requirement already satisfied: networkx in /usr/local/lib/python3.11/dist-packages (from torch>=2.0.0->accelerate) (3.5)\n",
      "Requirement already satisfied: jinja2 in /usr/local/lib/python3.11/dist-packages (from torch>=2.0.0->accelerate) (3.1.6)\n",
      "Requirement already satisfied: nvidia-cuda-nvrtc-cu12==12.4.127 in /usr/local/lib/python3.11/dist-packages (from torch>=2.0.0->accelerate) (12.4.127)\n",
      "Requirement already satisfied: nvidia-cuda-runtime-cu12==12.4.127 in /usr/local/lib/python3.11/dist-packages (from torch>=2.0.0->accelerate) (12.4.127)\n",
      "Requirement already satisfied: nvidia-cuda-cupti-cu12==12.4.127 in /usr/local/lib/python3.11/dist-packages (from torch>=2.0.0->accelerate) (12.4.127)\n",
      "Requirement already satisfied: nvidia-cudnn-cu12==9.1.0.70 in /usr/local/lib/python3.11/dist-packages (from torch>=2.0.0->accelerate) (9.1.0.70)\n",
      "Requirement already satisfied: nvidia-cublas-cu12==12.4.5.8 in /usr/local/lib/python3.11/dist-packages (from torch>=2.0.0->accelerate) (12.4.5.8)\n",
      "Requirement already satisfied: nvidia-cufft-cu12==11.2.1.3 in /usr/local/lib/python3.11/dist-packages (from torch>=2.0.0->accelerate) (11.2.1.3)\n",
      "Requirement already satisfied: nvidia-curand-cu12==10.3.5.147 in /usr/local/lib/python3.11/dist-packages (from torch>=2.0.0->accelerate) (10.3.5.147)\n",
      "Requirement already satisfied: nvidia-cusolver-cu12==11.6.1.9 in /usr/local/lib/python3.11/dist-packages (from torch>=2.0.0->accelerate) (11.6.1.9)\n",
      "Requirement already satisfied: nvidia-cusparse-cu12==12.3.1.170 in /usr/local/lib/python3.11/dist-packages (from torch>=2.0.0->accelerate) (12.3.1.170)\n",
      "Requirement already satisfied: nvidia-cusparselt-cu12==0.6.2 in /usr/local/lib/python3.11/dist-packages (from torch>=2.0.0->accelerate) (0.6.2)\n",
      "Requirement already satisfied: nvidia-nccl-cu12==2.21.5 in /usr/local/lib/python3.11/dist-packages (from torch>=2.0.0->accelerate) (2.21.5)\n",
      "Requirement already satisfied: nvidia-nvtx-cu12==12.4.127 in /usr/local/lib/python3.11/dist-packages (from torch>=2.0.0->accelerate) (12.4.127)\n",
      "Requirement already satisfied: nvidia-nvjitlink-cu12==12.4.127 in /usr/local/lib/python3.11/dist-packages (from torch>=2.0.0->accelerate) (12.4.127)\n",
      "Requirement already satisfied: triton==3.2.0 in /usr/local/lib/python3.11/dist-packages (from torch>=2.0.0->accelerate) (3.2.0)\n",
      "Requirement already satisfied: sympy==1.13.1 in /usr/local/lib/python3.11/dist-packages (from torch>=2.0.0->accelerate) (1.13.1)\n",
      "Requirement already satisfied: mpmath<1.4,>=1.1.0 in /usr/local/lib/python3.11/dist-packages (from sympy==1.13.1->torch>=2.0.0->accelerate) (1.3.0)\n",
      "Requirement already satisfied: MarkupSafe>=2.0 in /usr/local/lib/python3.11/dist-packages (from jinja2->torch>=2.0.0->accelerate) (3.0.2)\n",
      "Requirement already satisfied: charset-normalizer<4,>=2 in /usr/local/lib/python3.11/dist-packages (from requests->huggingface-hub>=0.21.0->accelerate) (3.4.2)\n",
      "Requirement already satisfied: idna<4,>=2.5 in /usr/local/lib/python3.11/dist-packages (from requests->huggingface-hub>=0.21.0->accelerate) (3.10)\n",
      "Requirement already satisfied: urllib3<3,>=1.21.1 in /usr/local/lib/python3.11/dist-packages (from requests->huggingface-hub>=0.21.0->accelerate) (2.4.0)\n",
      "Requirement already satisfied: certifi>=2017.4.17 in /usr/local/lib/python3.11/dist-packages (from requests->huggingface-hub>=0.21.0->accelerate) (2025.4.26)\n"
     ]
    }
   ],
   "source": [
    "!pip install sentence-transformers\n",
    "!pip install transformers\n",
    "!pip install torch\n",
    "!pip install accelerate"
   ]
  },
  {
   "cell_type": "markdown",
   "metadata": {
    "id": "A8DxPae3TQnp"
   },
   "source": [
    "**Import Libraries**"
   ]
  },
  {
   "cell_type": "code",
   "execution_count": 2,
   "metadata": {
    "id": "6d35rIOqK79Y"
   },
   "outputs": [],
   "source": [
    "from sentence_transformers import SentenceTransformer, util\n",
    "from transformers import AutoTokenizer, AutoModelForCausalLM\n",
    "import torch\n",
    "import re"
   ]
  },
  {
   "cell_type": "code",
   "execution_count": 3,
   "metadata": {
    "colab": {
     "base_uri": "https://localhost:8080/",
     "height": 1000,
     "referenced_widgets": [
      "08f4f915d5d64669a6cb1a7f0d79bd7b",
      "62d098e7152b4f48a4ca97ff7a25f42a",
      "3d5f691552fd4c79bfbdda4a26c8c185",
      "725e8b4c486a43abac536cd8f03fd885",
      "9fc22c3779b146249a544de07afbac87",
      "79029ceb0a9b4f59abe957709fc2707c",
      "d9059f781e1141cdb567cc714233f8a3",
      "99c694e4109c47df97b47d81bbe34e54",
      "a8a7904a4f0b4c5cb904936a3a154b41",
      "390bc1e7647b481f80a7ccc95d5e916f",
      "a7dde41809504a28beaa104c354d23ba",
      "c874dccd88e548d087fb055273682714",
      "6c8f55f59feb4e6aa0a4a6ec97255c6e",
      "6261464b69b44ebfb324f9123eef2cbb",
      "c57b2e514d074b6ea0ad4d4dfac05530",
      "4f17f01b7d6c43e8baad67f9e86baf56",
      "036ac2e7e80a48899d4593f34bda5dcd",
      "b6679aa99c93409790dcc22e6215a471",
      "ff798ad6d0cd44238d81180a3a45699e",
      "76e667c048e944858130798e99a651b6",
      "f08b6be7e6e340779776d8786bd9e71e",
      "31b5402807fa427cbc0f892ec9859f51",
      "45599d2f730944a99fbdd133e48ec657",
      "7a1cf23ba1de4339be701f1de1d17b55",
      "3caa3ec17b234f09b929e180e960c205",
      "22e6342a1c6e468fa5b45a205886ac4d",
      "9b35672dc0414d1ab5c10b33361dfc1c",
      "93f9b3f1e01c407bad7939aa57de67a9",
      "525bf9ff0ae24c97af6fdcd349e258a4",
      "3ec0603d3915490d8e7c208697717c19",
      "0423613e11714ea3bedeb4a32ef5faeb",
      "4b9691d7842441b3922b527d3b29bf60",
      "778702a1405f46ce917c5eb883996527",
      "aa5af79db1224697826d12cfe54f705f",
      "bad4efbc19e14877a3a2e3eea340eb2d",
      "31f67e51e31a48c9a839115dbe7800f9",
      "c9bda10f0d0840479a3fa61164bb2dad",
      "77179eff0f3e4ccdb6e671d81b77b855",
      "724329b0062a4829a429ca32e8083c3d",
      "cb55ddf717384267bfe153661711ef75",
      "32131aae86ce47699ceb1018154f9eda",
      "45c18ea1a9a4449cb04db691927e2055",
      "b402672641334ca39a4990e288c828a8",
      "7e94f8c351884637a0663bb46df63623",
      "a0dc341bb7534755ac9f7577ef16901f",
      "e733c4d76f244a7c9f3d52b2d4025b76",
      "3f38115b1b3f40a49d2391d3759ca06f",
      "0dbdd5eae47a46e780f3b1c965a1f047",
      "b6bf30b2ef3f4ab4a2179e865b715794",
      "44fda9f252b242f09d1122ab10a18fa9",
      "617fc66e87ae42ef972acc0c31f9145f",
      "919c1bffcc7d434ab8b146084be30cd7",
      "bdff970fbb7247b2a9ea899c4faf05da",
      "46425f56e11b4e76afafb9b134058265",
      "cc9b1d21ecdb485695b5c99dca226194",
      "7b984ace294842a9acd0c8e82659fc6c",
      "ddbe30cbaf674395a0221a1174dd63ce",
      "a345bd247447490180bf5481aac26941",
      "c36ca0df80ee48b789bd6f5e679cb934",
      "2999023a8b1d4ce8b6735e9205b6e3c6",
      "967df47a4ba04b15880c1a98838cdd80",
      "2f7f500123ba45c798c53d91e8610558",
      "4f256ee29f874cd585d08f62c81002ca",
      "1f113a5204c446d78adf8ad6e708dd7a",
      "08729d974aba491ca9180494899c469a",
      "3e5109ffbe5b43bca778ea48464ace62",
      "9f953ac3b80d4a7ab7cc811579cb332a",
      "2a33b35dbd4443e6890a4710f8042c31",
      "255b04b961e144189ffe740693b1d1fc",
      "f0048ac1070b4a5ba696820d75e0f3ee",
      "a8fb73f970d1472ca17694a67294949f",
      "e69d00a5976a4a6a9c7c5ac4e73b43b3",
      "f5f072199751421d89cbced5660b919c",
      "6ebc644f59ea4a66bef6d06a9bd14acf",
      "f24765dcd6c744c7bdd492274f54510d",
      "63a2661363c6430da4bf0a97ba638032",
      "24fb14503b3145519b498adae39438eb",
      "334a1b9b7017416f97a0a1746ad89020",
      "b54dacfb8f184bb9a1a85a957a38d901",
      "71540831488545c6909a0349900615c3",
      "5467129f280a4ff195496aa59459bda6",
      "756b2419ffb44a4c821e93363dae7bf9",
      "db2b1d19e8a84757a1c50fbe33b3dcdd",
      "cf99730cc2fe4c26adb1fbce39e42c93",
      "c4605e58beb84bac942c9daa852e35a4",
      "0472697259f5478884da39c911f2259b",
      "9c7dcb9d56c542d7ac77a3dd6d8f7ae8",
      "8d4b6d4b477a4520bbb7adb4a54f153a",
      "def62316cbf748aeb0fb83838af8bf77",
      "77274279b7954540938aee65ba4eb2d7",
      "762804f133634cf3922c2cf20cffb9c5",
      "c071a874a34849e69b08e76b1d26820b",
      "aaf90e78d6ea4e4695fb821f4caca5b4",
      "b565fce34769498aa3fc5f8880efbdb1",
      "2f719ca5af284d3b91b697bcc9a128d1",
      "c7f8f0ed16d341bd9742de09115b4583",
      "9e864360b91943c68987cc5c76ad2d6e",
      "eb20f9e24f7d48b0adf2c35b30b23a24",
      "50581fd67a4a4b1b9ef27b6b6098551b",
      "078f4c7be50d4b1ca815b0313e2ab151",
      "3dd6f8eb66d445f6848dbc700df64e02",
      "d17f7f5d24564bbf979749df66c9864f",
      "badf467a4fcb4391a74a4e6bfefdbfa1",
      "431dccf456f144288210e27536c6bd1d",
      "c62e3f4646dd458f949ed5683ae3816f",
      "8aeac35d3bd74c90a1b4c125977e259c",
      "33205ec7f8b54d33b19591e6ad901d9b",
      "c8d77c1cc1f0417aa15f7fef58739566",
      "c2b9655f5ea44fbaa3861b58861a2cd0",
      "7d5a8e5a6d274affab0c56a92facfc04",
      "aeb1367ac395470595cd90ca3f7b2bc7",
      "29bd1b74fc014c388e3e64fa9c9f6f0f",
      "3d2cd366743f46e2a789bc35c59b71aa",
      "56c6851ff2e047cc8862851fcacc8ab2",
      "17e6b561884544979ad0da4f99c6fabe",
      "fcc81626844c49078d532289829e0210",
      "a5c63de7bcf049a49374631219b6946b",
      "38d8e2fa48b8466faa80f3f5405eabaa",
      "76f1a8a57aac473ca655b41b0f12f287",
      "dda9fac6b52c4a4eb83e81af3eb5e925",
      "cb6661f878ac46d59ad3fd8cab19408d",
      "cda006e5dd3c468b9f3f2cbb7ea0e2ef",
      "0510626fdbe5496d8ad13b969a5bad90",
      "be7808597c5144f8a1cf73dde1f08548",
      "13590744d53e471b8faf28b712cd31a4",
      "f6b7c6c5e66349cfb951d58a5613218d",
      "ca694c68b4184f3fbe2330201a0d8bae",
      "fb358baa71c34b0b9e6e6dd7d23c044e",
      "308e312d482640f6a577b2b3c0593a28",
      "2f58737e6e9e42058b07bcf6e840286f",
      "eaa6bbe9b0f74bd79cc28edab9123219",
      "1739ac16b60e445f8c83d0e607804f09",
      "3ef3fbd8c6344d369abebee07ae5a034",
      "ef93ce0efe5d466e94800051d10ef297",
      "154eb41a4d5d46389f5ad98b270ad986",
      "361d9a715a6540848a814cf1b7ca0007",
      "da7b52ced2174eccb9c76a51648d60a0",
      "1b7579dacb284443a6495792ffc2579f",
      "a23f00fb9f0d49ee9f05a90f966f0236",
      "1973c2640ad84d2a9bde49929b35318c",
      "06e211b393844a7d9f57915af236de61",
      "30b086649bbb41428202ef9faefd4981",
      "6ffc904a72c440b290f8000f3b740bbb",
      "fbcafcd1fdca4b5ab909e34e3aa8bf95",
      "de203330e08f40abb2447ff268a1d656",
      "9fe5954394584e04a5b6f6157cc521bf",
      "7ff11a8901fd4d8da06feb86b441cb33",
      "33f2baf874224c5c87d50937c2d5d7fe",
      "aa50009cc9cb4c34848fd77e7b34e72c",
      "59d93f9cc4564d9f89156ba807c4f68a",
      "dd747f0d048541b98e808d3f83729c24",
      "aeec99a380644e1ab1aae6da929b2040",
      "901e6c585dc34537afcc93e9e8c0605e",
      "926e2ea7051742d7bc48927171ccfe8e",
      "580e992f65f14d25a72f52b4e7bb981e",
      "92129323447e405e8c352dafce980a12",
      "530f20cf1a5d4e8fae5ee2f719c8e7f6",
      "780492bdbbe9469d8651de30a8bd7901",
      "55741e0c36cf492aad78d0353ffbd98a",
      "67e36ce15cc14c689184c2e43897b74d",
      "50f559558ffd479f81a478a2821d41fc",
      "f3b5379856a344a483b48cd10b8cf591",
      "d22264e7f7864867a692d6241f616758",
      "bfd83ca30d75478aaf51b806634b924e",
      "299d258b768747ffaa64ffb91b353367",
      "652539a8f3cf416ba5325a8e52ee6841",
      "ea84e036a9434dec82a3df40da547881",
      "0e4b8631b09c4552bdb55d6c3fe5e39b",
      "e3a672945f424c87978b11a1dc88ad86",
      "a21e70a697b646ea9a3cfc8b9f9bdf44",
      "84fe1fd83dec40a88a17c41b798999a5",
      "49ab1b79b29e48e98eaecf740d585d75",
      "42491fd5751243ff983d774393f8f527",
      "ea163811d7fc4bee9db7be489db5e590",
      "b5cb0266961d49629b1e8092210e6990",
      "37367301f4c6468bb86f14749ce1c733",
      "6893b178f814420281bccbf6d958caab",
      "6d9c3bc3be37406b89314693ae053394",
      "fa98bdda0c30417f87cb6c684458d6e2",
      "2b573d9500e0490bbe85c97e7e3b5778",
      "3381b5badea04f01a298ce83ad38a69d",
      "156f10f42e704d659e53281820085f6a",
      "8f9c8a9f11ff4993b1718e8cbacf988d",
      "f1c7e5ea577f4efaa9ce3818c1231d71",
      "8d0c0bd35636414da1aa843af55d84f8",
      "9730cc980ccc4e7b82a23de50825c562",
      "c31e159446f840f1b6f6be20b7ea6aa1",
      "7df6d1bef16c4545b980d4e86b2ef47b",
      "35167720487a404e920a0f21ae6bbaf7",
      "5ce5374b688c487d917b26a3e74f87c1",
      "2412003c00a4441a96d09e139a198815",
      "0d4e9caa364f475093c869492578f72d",
      "a3c1d69008e442cfa4dab2c802c05c89",
      "4d7b5460d75b4b268e75bdb1392bbc63",
      "a7abc611962449fdb445f7579fe92d9b",
      "fa262f98bee14f4fbeff92f3fa8f9c77",
      "96d9201e0957425ca6022c5ab427780c",
      "947287802e3a44908517a62a08b04764"
     ]
    },
    "id": "WiGcgFh4LDSh",
    "outputId": "8a5c0a8a-41c2-406c-8cdf-5ce9db7fd157"
   },
   "outputs": [
    {
     "name": "stderr",
     "output_type": "stream",
     "text": [
      "/usr/local/lib/python3.11/dist-packages/huggingface_hub/utils/_auth.py:94: UserWarning: \n",
      "The secret `HF_TOKEN` does not exist in your Colab secrets.\n",
      "To authenticate with the Hugging Face Hub, create a token in your settings tab (https://huggingface.co/settings/tokens), set it as secret in your Google Colab and restart your session.\n",
      "You will be able to reuse this secret in all of your notebooks.\n",
      "Please note that authentication is recommended but still optional to access public models or datasets.\n",
      "  warnings.warn(\n"
     ]
    },
    {
     "data": {
      "application/vnd.jupyter.widget-view+json": {
       "model_id": "08f4f915d5d64669a6cb1a7f0d79bd7b",
       "version_major": 2,
       "version_minor": 0
      },
      "text/plain": [
       "modules.json:   0%|          | 0.00/349 [00:00<?, ?B/s]"
      ]
     },
     "metadata": {},
     "output_type": "display_data"
    },
    {
     "data": {
      "application/vnd.jupyter.widget-view+json": {
       "model_id": "c874dccd88e548d087fb055273682714",
       "version_major": 2,
       "version_minor": 0
      },
      "text/plain": [
       "config_sentence_transformers.json:   0%|          | 0.00/116 [00:00<?, ?B/s]"
      ]
     },
     "metadata": {},
     "output_type": "display_data"
    },
    {
     "data": {
      "application/vnd.jupyter.widget-view+json": {
       "model_id": "45599d2f730944a99fbdd133e48ec657",
       "version_major": 2,
       "version_minor": 0
      },
      "text/plain": [
       "README.md:   0%|          | 0.00/10.5k [00:00<?, ?B/s]"
      ]
     },
     "metadata": {},
     "output_type": "display_data"
    },
    {
     "data": {
      "application/vnd.jupyter.widget-view+json": {
       "model_id": "aa5af79db1224697826d12cfe54f705f",
       "version_major": 2,
       "version_minor": 0
      },
      "text/plain": [
       "sentence_bert_config.json:   0%|          | 0.00/53.0 [00:00<?, ?B/s]"
      ]
     },
     "metadata": {},
     "output_type": "display_data"
    },
    {
     "data": {
      "application/vnd.jupyter.widget-view+json": {
       "model_id": "a0dc341bb7534755ac9f7577ef16901f",
       "version_major": 2,
       "version_minor": 0
      },
      "text/plain": [
       "config.json:   0%|          | 0.00/612 [00:00<?, ?B/s]"
      ]
     },
     "metadata": {},
     "output_type": "display_data"
    },
    {
     "data": {
      "application/vnd.jupyter.widget-view+json": {
       "model_id": "7b984ace294842a9acd0c8e82659fc6c",
       "version_major": 2,
       "version_minor": 0
      },
      "text/plain": [
       "model.safetensors:   0%|          | 0.00/90.9M [00:00<?, ?B/s]"
      ]
     },
     "metadata": {},
     "output_type": "display_data"
    },
    {
     "data": {
      "application/vnd.jupyter.widget-view+json": {
       "model_id": "9f953ac3b80d4a7ab7cc811579cb332a",
       "version_major": 2,
       "version_minor": 0
      },
      "text/plain": [
       "tokenizer_config.json:   0%|          | 0.00/350 [00:00<?, ?B/s]"
      ]
     },
     "metadata": {},
     "output_type": "display_data"
    },
    {
     "data": {
      "application/vnd.jupyter.widget-view+json": {
       "model_id": "334a1b9b7017416f97a0a1746ad89020",
       "version_major": 2,
       "version_minor": 0
      },
      "text/plain": [
       "vocab.txt:   0%|          | 0.00/232k [00:00<?, ?B/s]"
      ]
     },
     "metadata": {},
     "output_type": "display_data"
    },
    {
     "data": {
      "application/vnd.jupyter.widget-view+json": {
       "model_id": "def62316cbf748aeb0fb83838af8bf77",
       "version_major": 2,
       "version_minor": 0
      },
      "text/plain": [
       "tokenizer.json:   0%|          | 0.00/466k [00:00<?, ?B/s]"
      ]
     },
     "metadata": {},
     "output_type": "display_data"
    },
    {
     "data": {
      "application/vnd.jupyter.widget-view+json": {
       "model_id": "078f4c7be50d4b1ca815b0313e2ab151",
       "version_major": 2,
       "version_minor": 0
      },
      "text/plain": [
       "special_tokens_map.json:   0%|          | 0.00/112 [00:00<?, ?B/s]"
      ]
     },
     "metadata": {},
     "output_type": "display_data"
    },
    {
     "data": {
      "application/vnd.jupyter.widget-view+json": {
       "model_id": "aeb1367ac395470595cd90ca3f7b2bc7",
       "version_major": 2,
       "version_minor": 0
      },
      "text/plain": [
       "config.json:   0%|          | 0.00/190 [00:00<?, ?B/s]"
      ]
     },
     "metadata": {},
     "output_type": "display_data"
    },
    {
     "data": {
      "application/vnd.jupyter.widget-view+json": {
       "model_id": "cda006e5dd3c468b9f3f2cbb7ea0e2ef",
       "version_major": 2,
       "version_minor": 0
      },
      "text/plain": [
       "tokenizer_config.json:   0%|          | 0.00/1.29k [00:00<?, ?B/s]"
      ]
     },
     "metadata": {},
     "output_type": "display_data"
    },
    {
     "data": {
      "application/vnd.jupyter.widget-view+json": {
       "model_id": "3ef3fbd8c6344d369abebee07ae5a034",
       "version_major": 2,
       "version_minor": 0
      },
      "text/plain": [
       "tokenizer.model:   0%|          | 0.00/500k [00:00<?, ?B/s]"
      ]
     },
     "metadata": {},
     "output_type": "display_data"
    },
    {
     "data": {
      "application/vnd.jupyter.widget-view+json": {
       "model_id": "fbcafcd1fdca4b5ab909e34e3aa8bf95",
       "version_major": 2,
       "version_minor": 0
      },
      "text/plain": [
       "tokenizer.json:   0%|          | 0.00/1.84M [00:00<?, ?B/s]"
      ]
     },
     "metadata": {},
     "output_type": "display_data"
    },
    {
     "data": {
      "application/vnd.jupyter.widget-view+json": {
       "model_id": "580e992f65f14d25a72f52b4e7bb981e",
       "version_major": 2,
       "version_minor": 0
      },
      "text/plain": [
       "special_tokens_map.json:   0%|          | 0.00/551 [00:00<?, ?B/s]"
      ]
     },
     "metadata": {},
     "output_type": "display_data"
    },
    {
     "data": {
      "application/vnd.jupyter.widget-view+json": {
       "model_id": "652539a8f3cf416ba5325a8e52ee6841",
       "version_major": 2,
       "version_minor": 0
      },
      "text/plain": [
       "config.json:   0%|          | 0.00/608 [00:00<?, ?B/s]"
      ]
     },
     "metadata": {},
     "output_type": "display_data"
    },
    {
     "data": {
      "application/vnd.jupyter.widget-view+json": {
       "model_id": "6893b178f814420281bccbf6d958caab",
       "version_major": 2,
       "version_minor": 0
      },
      "text/plain": [
       "model.safetensors:   0%|          | 0.00/2.20G [00:00<?, ?B/s]"
      ]
     },
     "metadata": {},
     "output_type": "display_data"
    },
    {
     "data": {
      "application/vnd.jupyter.widget-view+json": {
       "model_id": "7df6d1bef16c4545b980d4e86b2ef47b",
       "version_major": 2,
       "version_minor": 0
      },
      "text/plain": [
       "generation_config.json:   0%|          | 0.00/124 [00:00<?, ?B/s]"
      ]
     },
     "metadata": {},
     "output_type": "display_data"
    },
    {
     "data": {
      "text/plain": [
       "LlamaForCausalLM(\n",
       "  (model): LlamaModel(\n",
       "    (embed_tokens): Embedding(32000, 2048)\n",
       "    (layers): ModuleList(\n",
       "      (0-21): 22 x LlamaDecoderLayer(\n",
       "        (self_attn): LlamaAttention(\n",
       "          (q_proj): Linear(in_features=2048, out_features=2048, bias=False)\n",
       "          (k_proj): Linear(in_features=2048, out_features=256, bias=False)\n",
       "          (v_proj): Linear(in_features=2048, out_features=256, bias=False)\n",
       "          (o_proj): Linear(in_features=2048, out_features=2048, bias=False)\n",
       "        )\n",
       "        (mlp): LlamaMLP(\n",
       "          (gate_proj): Linear(in_features=2048, out_features=5632, bias=False)\n",
       "          (up_proj): Linear(in_features=2048, out_features=5632, bias=False)\n",
       "          (down_proj): Linear(in_features=5632, out_features=2048, bias=False)\n",
       "          (act_fn): SiLU()\n",
       "        )\n",
       "        (input_layernorm): LlamaRMSNorm((2048,), eps=1e-05)\n",
       "        (post_attention_layernorm): LlamaRMSNorm((2048,), eps=1e-05)\n",
       "      )\n",
       "    )\n",
       "    (norm): LlamaRMSNorm((2048,), eps=1e-05)\n",
       "    (rotary_emb): LlamaRotaryEmbedding()\n",
       "  )\n",
       "  (lm_head): Linear(in_features=2048, out_features=32000, bias=False)\n",
       ")"
      ]
     },
     "execution_count": 3,
     "metadata": {},
     "output_type": "execute_result"
    }
   ],
   "source": [
    "# Load sentence transformer model\n",
    "mini_model = SentenceTransformer('all-MiniLM-L6-v2')\n",
    "\n",
    "# Load language model and tokenizer\n",
    "llm_model_id = \"TinyLlama/TinyLlama-1.1B-Chat-v1.0\"\n",
    "tokenizer = AutoTokenizer.from_pretrained(llm_model_id)\n",
    "llm_model = AutoModelForCausalLM.from_pretrained(llm_model_id)\n",
    "\n",
    "# Move model to available device\n",
    "device = torch.device(\"cuda\" if torch.cuda.is_available() else \"cpu\")\n",
    "llm_model.to(device)"
   ]
  },
  {
   "cell_type": "code",
   "execution_count": 4,
   "metadata": {
    "id": "jX4tODpFLIKM"
   },
   "outputs": [],
   "source": [
    "# Career Paths & Explanations Data\n",
    "career_paths = {\n",
    "    \"STEM\": \"Math, technology, engineering, coding, analytics\",\n",
    "    \"Arts\": \"Creativity, design, painting, music, writing\",\n",
    "    \"Sports\": \"Athletics, physical activity, games, teamwork, fitness\",\n",
    "    \"Business\": \"Leadership, management, entrepreneurship, finance, marketing\",\n",
    "    \"Healthcare\": \"Medicine, nursing, mental health, caregiving, diagnostics\",\n",
    "    \"Social Sciences\": \"Psychology, sociology, human behavior, communication\",\n",
    "    \"Law & Politics\": \"Debating, justice, legal systems, public speaking, policy-making\",\n",
    "    \"Education\": \"Teaching, mentoring, training, learning methodologies\",\n",
    "    \"Environment & Sustainability\": \"Ecology, climate change, conservation, sustainability\",\n",
    "    \"Trades & Skilled Work\": \"Hands-on work, mechanical skills, craftsmanship, construction\",\n",
    "    \"Media & Communication\": \"Journalism, content creation, social media, storytelling\",\n",
    "    \"Gaming & Esports\": \"Competitive gaming, strategy, reflexes, digital collaboration\",\n",
    "    \"Military & Defense\": \"Discipline, leadership, tactics, national service\"\n",
    "}\n",
    "\n",
    "fallback_explanations = {\n",
    "    \"STEM\": \"You enjoy problem-solving and working with data or technology.\",\n",
    "    \"Arts\": \"You have a creative mindset and a love for expression and design.\",\n",
    "    \"Sports\": \"You show interest in physical activity, teamwork, and discipline.\",\n",
    "    \"Business\": \"You're motivated by goals, leadership, and creating value through strategy.\",\n",
    "    \"Healthcare\": \"You care deeply about helping others and are drawn to medical science.\",\n",
    "    \"Social Sciences\": \"You’re curious about people, culture, and how society works.\",\n",
    "    \"Law & Politics\": \"You’re passionate about justice, debate, and influencing change.\",\n",
    "    \"Education\": \"You enjoy sharing knowledge and helping others learn and grow.\",\n",
    "    \"Environment & Sustainability\": \"You’re driven to protect nature and build a greener future.\",\n",
    "    \"Trades & Skilled Work\": \"You like hands-on work and solving real-world problems with skill.\",\n",
    "    \"Media & Communication\": \"You thrive on storytelling, content, and connecting with people.\",\n",
    "    \"Gaming & Esports\": \"You're strategic, competitive, and love digital challenges.\",\n",
    "    \"Military & Defense\": \"You value discipline, honor, and service with a mission.\"\n",
    "}\n"
   ]
  },
  {
   "cell_type": "code",
   "execution_count": 17,
   "metadata": {
    "colab": {
     "base_uri": "https://localhost:8080/"
    },
    "id": "T6lUQSs1LPBh",
    "outputId": "e029188f-c4f4-45c3-b655-930b8893100d"
   },
   "outputs": [
    {
     "name": "stdout",
     "output_type": "stream",
     "text": [
      " Hello! I’m your Career Companion \n",
      "I'm here to help you discover a career path that matches your personality and interests.\n",
      "\n",
      "What activities or topics do you enjoy the most in your free time?\n",
      " Your answer: readng\n",
      "What kind of things excite or inspire you?\n",
      " Your answer: football\n",
      "What are your hobbies or things you naturally gravitate toward?\n",
      " Your answer: football\n",
      "If you're unsure, just say 'I don't know'.\n",
      " Your answer: football\n"
     ]
    }
   ],
   "source": [
    "# Ask Initial Questions\n",
    "print(\" Hello! I’m your Career Companion \")\n",
    "print(\"I'm here to help you discover a career path that matches your personality and interests.\\n\")\n",
    "\n",
    "open_questions = [\n",
    "    \"What activities or topics do you enjoy the most in your free time?\",\n",
    "    \"What kind of things excite or inspire you?\",\n",
    "    \"What are your hobbies or things you naturally gravitate toward?\",\n",
    "    \"If you're unsure, just say 'I don't know'.\"\n",
    "]\n",
    "\n",
    "responses = []\n",
    "for q in open_questions:\n",
    "    answer = input(f\"{q}\\n Your answer: \")\n",
    "    responses.append(answer)\n",
    "\n"
   ]
  },
  {
   "cell_type": "markdown",
   "metadata": {
    "id": "iF-WBtXvcpCO"
   },
   "source": [
    "**Handle 'I Don't Know' Responses**"
   ]
  },
  {
   "cell_type": "code",
   "execution_count": 18,
   "metadata": {
    "id": "nYFEhhVQLXUC"
   },
   "outputs": [],
   "source": [
    "ambiguous_keywords = [\"don't know\", \"not sure\", \"no idea\", \"nothing\", \"none\", \"no interest\"]\n",
    "\n",
    "user_input = \" \".join(responses)\n",
    "user_input_normalized = re.sub(r\"[^\\w\\s]\", \"\", user_input.lower())\n",
    "if any(keyword in user_input_normalized for keyword in ambiguous_keywords):\n",
    "    print(\"\\n No worries! Let's try a few quick questions instead.\\n\")\n",
    "    user_input = \"\"\n",
    "    psych_questions = [\n",
    "        \" Do you enjoy working with people, tools, computers, or ideas the most?\",\n",
    "        \" What kind of environment makes you feel most comfortable? (classroom, outdoors, lab, stage, etc.)\",\n",
    "        \" What do you value more — creativity, logic, helping others, or leadership?\",\n",
    "        \" If you could learn any one skill instantly, what would it be?\",\n",
    "        \" What kind of problems do you like solving — people’s issues, technical bugs, puzzles, or design challenges?\"\n",
    "    ]\n",
    "    for q in psych_questions:\n",
    "        answer = input(f\"{q}\\n  Your answer: \")\n",
    "        user_input += answer + \" \""
   ]
  },
  {
   "cell_type": "code",
   "execution_count": 19,
   "metadata": {
    "id": "pCRCFFyWLcGR"
   },
   "outputs": [],
   "source": [
    "# Match to Career Path Using Embeddings\n",
    "user_embedding = mini_model.encode(user_input, convert_to_tensor=True)\n",
    "scores = {}\n",
    "\n",
    "for path, description in career_paths.items():\n",
    "    path_embedding = mini_model.encode(description, convert_to_tensor=True)\n",
    "    similarity = util.cos_sim(user_embedding, path_embedding).item()\n",
    "    scores[path] = similarity\n",
    "\n",
    "best_match = max(scores, key=scores.get)"
   ]
  },
  {
   "cell_type": "code",
   "execution_count": 20,
   "metadata": {
    "colab": {
     "base_uri": "https://localhost:8080/"
    },
    "id": "ce8K6ZoBNmfm",
    "outputId": "0b6f418b-9fb0-46e9-b12a-8ce5808e720a"
   },
   "outputs": [
    {
     "name": "stdout",
     "output_type": "stream",
     "text": [
      "\n",
      " I’ve thought about it...\n",
      " Based on what you've shared, a great career path for you might be: *Sports*\n",
      " Why? You show interest in physical activity, teamwork, and discipline.\n"
     ]
    }
   ],
   "source": [
    "print(\"\\n I’ve thought about it...\")\n",
    "print(f\" Based on what you've shared, a great career path for you might be: *{best_match}*\")\n",
    "print(f\" Why? {fallback_explanations[best_match]}\")\n"
   ]
  },
  {
   "cell_type": "code",
   "execution_count": 15,
   "metadata": {
    "colab": {
     "base_uri": "https://localhost:8080/"
    },
    "id": "aOR21kpVN2A6",
    "outputId": "55a22dbe-c6cd-490c-95c7-82964e69c58d"
   },
   "outputs": [
    {
     "name": "stderr",
     "output_type": "stream",
     "text": [
      "The following generation flags are not valid and may be ignored: ['temperature', 'top_p']. Set `TRANSFORMERS_VERBOSITY=info` for more details.\n"
     ]
    }
   ],
   "source": [
    "# Generate Friendly Explanation\n",
    "prompt = f\"\"\"\n",
    "### Instruction:\n",
    "A student shared their interests as: \"{user_input}\"\n",
    "They were matched with the career path: \"{best_match}\".\n",
    "\n",
    "Write a short paragraph (2–3 sentences) explaining clearly why this career fits their interests.\n",
    "Avoid saying thank you or referring to yourself. Focus only on the student's interests and how they connect to the career.\n",
    "\n",
    "### Response:\n",
    "\"\"\"\n",
    "\n",
    "inputs = tokenizer(prompt, return_tensors=\"pt\").to(device)\n",
    "output = llm_model.generate(\n",
    "    **inputs,\n",
    "    max_new_tokens=150,  # Slightly increased to avoid cut-off\n",
    "    temperature=0.7,\n",
    "    top_p=0.9,\n",
    "    pad_token_id=tokenizer.eos_token_id\n",
    ")\n",
    "\n",
    "generated_text = tokenizer.decode(output[0], skip_special_tokens=True)\n",
    "explanation = generated_text.split(\"### Response:\")[-1].strip()"
   ]
  },
  {
   "cell_type": "code",
   "execution_count": 21,
   "metadata": {
    "colab": {
     "base_uri": "https://localhost:8080/"
    },
    "id": "YoLzCmP3OCFV",
    "outputId": "67a3f3e3-e796-4119-c43e-d326674131e7"
   },
   "outputs": [
    {
     "name": "stdout",
     "output_type": "stream",
     "text": [
      "\n",
      " AI-Powered Insight Just for You:\n",
      " I am a big fan of football and love to read books. So, I think I would be a great fit for the career path of sports. The career path of sports is all about developing and promoting the sport, which aligns with my interests. I would love to work in a team environment, where I can learn and grow as a professional. The career path of sports also offers opportunities to travel and experience different cultures, which I am interested in. Overall, I believe that this career path would be a great fit for me, and I am excited to explore it further.\n"
     ]
    }
   ],
   "source": [
    "print(\"\\n AI-Powered Insight Just for You:\")\n",
    "print(f\" {explanation}\")"
   ]
  }
 ],
 "metadata": {
  "colab": {
   "provenance": []
  },
  "kernelspec": {
   "display_name": "Python 3",
   "name": "python3"
  },
  "language_info": {
   "name": "python"
  }
 },
 "nbformat": 4,
 "nbformat_minor": 0
}
